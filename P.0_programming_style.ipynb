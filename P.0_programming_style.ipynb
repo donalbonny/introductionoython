{
 "cells": [
  {
   "cell_type": "code",
   "execution_count": 6,
   "metadata": {
    "collapsed": false
   },
   "outputs": [],
   "source": [
    "''' we start with the same code as we've seen before to open a datafile\n",
    "    and read its contents into a list of lists in session memory\n",
    "'''\n",
    "with open('/home/vinhpham/reformatted_Unigene.fa', 'r') as inFile:\n",
    "    fastaLoS = inFile.read().splitlines()\n",
    "    fastaLoL = []\n",
    "    for record in fastaLoS:\n",
    "        fastaLoL.append(record.split(' '))"
   ]
  },
  {
   "cell_type": "code",
   "execution_count": 7,
   "metadata": {
    "collapsed": false
   },
   "outputs": [
    {
     "name": "stdout",
     "output_type": "stream",
     "text": [
      "Variable   Type             Data/Info\n",
      "-------------------------------------\n",
      "fastaLoL   list             n=148787\n",
      "fastaLoS   list             n=148787\n",
      "inFile     TextIOWrapper    <_io.TextIOWrapper name='<...>ode='r' encoding='UTF-8'>\n",
      "record     str              Unigene148787_All size 43<...>ACATCAAACGAAACCTGCGAACTTT\n"
     ]
    }
   ],
   "source": [
    "%whos"
   ]
  },
  {
   "cell_type": "code",
   "execution_count": 23,
   "metadata": {
    "collapsed": false
   },
   "outputs": [],
   "source": [
    "del fastaLoS  #  or  another way: del(fastaLoL)\n"
   ]
  },
  {
   "cell_type": "code",
   "execution_count": null,
   "metadata": {
    "collapsed": true
   },
   "outputs": [],
   "source": []
  },
  {
   "cell_type": "code",
   "execution_count": 25,
   "metadata": {
    "collapsed": true
   },
   "outputs": [],
   "source": [
    "''' \n",
    "    this function uses an instantiated dictionary as an accumulator\n",
    "'''\n",
    "def cntNuclByInitDict(nuclStr):\n",
    "    cntDict = {'A':0, 'C':0, 'G':0, 'T':0, 'N': 0}\n",
    "    for nucleotide in nuclStr:\n",
    "        cntDict[nucleotide] = cntDict[nucleotide] + 1 \n",
    "    return cntDict"
   ]
  },
  {
   "cell_type": "code",
   "execution_count": 31,
   "metadata": {
    "collapsed": true
   },
   "outputs": [],
   "source": [
    "''' this function uses try-except to count nucleotides by type in a string\n",
    "    it uses an empty dictionary as an accumulator\n",
    "'''\n",
    "def cntNuclByEmptyDict(nuclStr):\n",
    "    cntDict = {} # empty dictionary as accumulator\n",
    "    for nucleotide in nuclStr:\n",
    "        try: \n",
    "            cntDict[nucleotide] = cntDict[nucleotide] + 1\n",
    "        except KeyError:\n",
    "            cntDict[nucleotide] = 1 # go thru Nucleotide and count +1 , if keyerror: key doesnot exit in the dict--> \n",
    "    return cntDict"
   ]
  },
  {
   "cell_type": "code",
   "execution_count": 33,
   "metadata": {
    "collapsed": false
   },
   "outputs": [
    {
     "data": {
      "text/plain": [
       "{'A': 1290, 'C': 1029, 'G': 814, 'T': 1181}"
      ]
     },
     "execution_count": 33,
     "metadata": {},
     "output_type": "execute_result"
    }
   ],
   "source": [
    "cntDict\n"
   ]
  },
  {
   "cell_type": "code",
   "execution_count": 32,
   "metadata": {
    "collapsed": false
   },
   "outputs": [
    {
     "name": "stdout",
     "output_type": "stream",
     "text": [
      "recordID: Unigene34455_All\n",
      "string length: 275\n",
      "g-c content: 0.1709090909090909\n",
      "recordID: Unigene33154_All\n",
      "string length: 267\n",
      "g-c content: 0.7790262172284644\n"
     ]
    }
   ],
   "source": [
    "''' main code segment: get g-c content ratio\n",
    "'''\n",
    "minRec, maxRec = ['', '', float('inf')],['', '', float('-inf')] # recordID, string length, g-c content ratio\n",
    "for record in fastaLoL:\n",
    "    cntDict = cntNuclByEmptyDict(record[6])\n",
    "    #cntDict = cntNuclByInitDict(record[6])\n",
    "    gcContent = (cntDict['C'] + cntDict['G'])/(cntDict['A']+cntDict['C']+cntDict['G']+cntDict['T'])\n",
    "    if gcContent < minRec[2]:\n",
    "        minRec[0], minRec[1], minRec[2] = record[0], str(len(record[6])), gcContent\n",
    "    if gcContent > maxRec[2]:\n",
    "        maxRec[0], maxRec[1], maxRec[2] = record[0], str(len(record[6])), gcContent\n",
    "print(\"recordID: {}\\nstring length: {}\\ng-c content: {}\".format(minRec[0], minRec[1], minRec[2]))\n",
    "print(\"recordID: {}\\nstring length: {}\\ng-c content: {}\".format(maxRec[0], maxRec[1], maxRec[2]))"
   ]
  },
  {
   "cell_type": "code",
   "execution_count": 8,
   "metadata": {
    "collapsed": false
   },
   "outputs": [
    {
     "ename": "NameError",
     "evalue": "name 'maxRec' is not defined",
     "output_type": "error",
     "traceback": [
      "\u001b[0;31m---------------------------------------------------------------------------\u001b[0m",
      "\u001b[0;31mNameError\u001b[0m                                 Traceback (most recent call last)",
      "\u001b[0;32m<ipython-input-8-6c776f1e97ec>\u001b[0m in \u001b[0;36m<module>\u001b[0;34m()\u001b[0m\n\u001b[0;32m----> 1\u001b[0;31m \u001b[0mprint\u001b[0m \u001b[0;34m(\u001b[0m\u001b[0;34m\"recordID: {}\\ntring length: {}\\ng-c content: {}\"\u001b[0m\u001b[0;34m.\u001b[0m \u001b[0mformat\u001b[0m\u001b[0;34m(\u001b[0m\u001b[0mmaxRec\u001b[0m\u001b[0;34m[\u001b[0m\u001b[0;36m0\u001b[0m\u001b[0;34m]\u001b[0m\u001b[0;34m,\u001b[0m \u001b[0mmaxRec\u001b[0m\u001b[0;34m[\u001b[0m\u001b[0;36m1\u001b[0m\u001b[0;34m]\u001b[0m\u001b[0;34m,\u001b[0m \u001b[0mmaxRec\u001b[0m\u001b[0;34m[\u001b[0m\u001b[0;36m2\u001b[0m\u001b[0;34m]\u001b[0m\u001b[0;34m)\u001b[0m\u001b[0;34m)\u001b[0m\u001b[0;34m\u001b[0m\u001b[0m\n\u001b[0m",
      "\u001b[0;31mNameError\u001b[0m: name 'maxRec' is not defined"
     ]
    }
   ],
   "source": [
    "print (\"recordID: {}\\ntring length: {}\\ng-c content: {}\". format(maxRec[0], maxRec[1], maxRec[2]))\n"
   ]
  },
  {
   "cell_type": "code",
   "execution_count": null,
   "metadata": {
    "collapsed": true
   },
   "outputs": [],
   "source": []
  }
 ],
 "metadata": {
  "anaconda-cloud": {},
  "kernelspec": {
   "display_name": "Python [conda root]",
   "language": "python",
   "name": "conda-root-py"
  },
  "language_info": {
   "codemirror_mode": {
    "name": "ipython",
    "version": 3
   },
   "file_extension": ".py",
   "mimetype": "text/x-python",
   "name": "python",
   "nbconvert_exporter": "python",
   "pygments_lexer": "ipython3",
   "version": "3.5.2"
  }
 },
 "nbformat": 4,
 "nbformat_minor": 1
}
