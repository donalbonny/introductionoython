{
 "cells": [
  {
   "cell_type": "markdown",
   "metadata": {},
   "source": [
    "# sorting: bubblesort"
   ]
  },
  {
   "cell_type": "markdown",
   "metadata": {},
   "source": [
    "there are several well-known sorting algorithms, and they are generally taught least-efficient first because the least efficient is the easiest to understand and implement. and that least efficient is..."
   ]
  },
  {
   "cell_type": "markdown",
   "metadata": {},
   "source": [
    "## bubblesort"
   ]
  },
  {
   "cell_type": "markdown",
   "metadata": {},
   "source": [
    "<b>\n",
    "<p>'bubblesort is a popular, but inefficient, sorting algorithm. it works by repeatably swapping adjacent elements that are out of order'</p>\n",
    "<p>-- p.40, cormen et al., 'introduction to algorithms', 3d edition</p>\n",
    "</b>"
   ]
  },
  {
   "cell_type": "code",
   "execution_count": 1,
   "metadata": {
    "collapsed": false
   },
   "outputs": [
    {
     "data": {
      "text/html": [
       "<iframe src=http://en.wikipedia.org/wiki/Bubblesort width=950 height=750></iframe>"
      ],
      "text/plain": [
       "<IPython.core.display.HTML object>"
      ]
     },
     "execution_count": 1,
     "metadata": {},
     "output_type": "execute_result"
    }
   ],
   "source": [
    "from IPython.display import HTML\n",
    "HTML('<iframe src=http://en.wikipedia.org/wiki/Bubblesort width=950 height=750></iframe>')"
   ]
  },
  {
   "cell_type": "markdown",
   "metadata": {},
   "source": [
    "<b><p>'Our intellectual powers are rather geared to master static relations and that our powers to visualize processes evolving in time are relatively poorly developed. For that reason we should do (as wise programmers aware of our limitations) our utmost to shorten the conceptual gap between the static program and the dynamic process, to make the correspondence between the program (spread out in text space) and the process (spread out in time) as trivial as possible'</p>\n",
    "<p> -- edsger dijkstra, <i>a case against the GOTO statement</i>, 1968</p></b>\n",
    "<p></p>\n",
    "<p>with that in mind, let's look at dynamic demonstrations of bubblesort</p>"
   ]
  },
  {
   "cell_type": "markdown",
   "metadata": {},
   "source": [
    "<b><p>here's a demonstration of bubblesort and cocktail sort done by cards:</p></b>"
   ]
  },
  {
   "cell_type": "code",
   "execution_count": 2,
   "metadata": {
    "collapsed": false
   },
   "outputs": [
    {
     "data": {
      "image/jpeg": "[encoded data removed]",
      "text/html": [
       "\n",
       "        <iframe\n",
       "            width=\"400\"\n",
       "            height=\"300\"\n",
       "            src=\"https://www.youtube.com/embed/UnK5ueUgc88\"\n",
       "            frameborder=\"0\"\n",
       "            allowfullscreen\n",
       "        ></iframe>\n",
       "        "
      ],
      "text/plain": [
       "<IPython.lib.display.YouTubeVideo at 0x7f8db14c4710>"
      ]
     },
     "execution_count": 2,
     "metadata": {},
     "output_type": "execute_result"
    }
   ],
   "source": [
    "from IPython.display import YouTubeVideo\n",
    "YouTubeVideo('UnK5ueUgc88')"
   ]
  },
  {
   "cell_type": "markdown",
   "metadata": {},
   "source": [
    "<p><b>more vivid, more entertaining, but just as accurate, is this demonstration of bubblesort done through hungarian (\"csángó\") folk dance:</p>\n",
    "<p>there is a dance prelude that has nothing to do with bubblesort; but, oh, well. it's like my ethnic german grandmother from transylvania used to say: you know those saxons. first dance, then computer science</b></p>\n",
    "<p><i>aber doch. meine paternische großmutter stammte wirklich aus siebenbürgen</i></p>"
   ]
  },
  {
   "cell_type": "code",
   "execution_count": 3,
   "metadata": {
    "collapsed": false
   },
   "outputs": [
    {
     "data": {
      "image/jpeg": "[encoded data removed]",
      "text/html": [
       "\n",
       "        <iframe\n",
       "            width=\"400\"\n",
       "            height=\"300\"\n",
       "            src=\"https://www.youtube.com/embed/lyZQPjUT5B4\"\n",
       "            frameborder=\"0\"\n",
       "            allowfullscreen\n",
       "        ></iframe>\n",
       "        "
      ],
      "text/plain": [
       "<IPython.lib.display.YouTubeVideo at 0x7f8db0c2dfd0>"
      ]
     },
     "execution_count": 3,
     "metadata": {},
     "output_type": "execute_result"
    }
   ],
   "source": [
    "from IPython.display import YouTubeVideo\n",
    "YouTubeVideo('lyZQPjUT5B4')"
   ]
  },
  {
   "cell_type": "markdown",
   "metadata": {},
   "source": [
    "<b>pseudo-code</b> constructed from <i>http://rosettacode.org</i>'s python2 implementation of bubblesort"
   ]
  },
  {
   "cell_type": "markdown",
   "metadata": {},
   "source": [
    "<p>hasChanged := true</p>\n",
    "<p><b>while</b> hasChanged is <b>true</b></p>\n",
    "<p>&nbsp;&nbsp;&nbsp;&nbsp;&nbsp;hasChanged := false</p>\n",
    "<p>&nbsp;&nbsp;&nbsp;&nbsp;&nbsp;<b>for</b> 1 <b>to</b> (itemCount - 1)</p>\n",
    "<p>&nbsp;&nbsp;&nbsp;&nbsp;&nbsp;&nbsp;&nbsp;&nbsp;&nbsp;&nbsp;<b>if</b> (item <b>at</b> index) > (item <b>at</b> index + 1)</p>\n",
    "<p>&nbsp;&nbsp;&nbsp;&nbsp;&nbsp;&nbsp;&nbsp;&nbsp;&nbsp;&nbsp;&nbsp;&nbsp;&nbsp;&nbsp;&nbsp;swap (item <b>at</b> index) <b>with</b> (item <b>at</b> index + 1)</p>\n",
    "<p>&nbsp;&nbsp;&nbsp;&nbsp;&nbsp;&nbsp;&nbsp;&nbsp;&nbsp;&nbsp;&nbsp;&nbsp;&nbsp;&nbsp;&nbsp;hasChanged := true</p>"
   ]
  },
  {
   "cell_type": "markdown",
   "metadata": {},
   "source": [
    "<b>python</b> implementation of bubblesort. we will start with the pseudocode; and for each line of pseudocode, we will write a line of python"
   ]
  },
  {
   "cell_type": "code",
   "execution_count": 4,
   "metadata": {
    "collapsed": false
   },
   "outputs": [],
   "source": [
    "# idiomatic python -- if hasChanged: evaluates as 'if hasChanged == True'\n",
    "# python swap -- varA , varB = varB , varA\n",
    "# as we move through a string or list via indices, we can access other positions in the string or list\n",
    "# by directly modifying the current index value. for example, my_array[index] returns the value in the\n",
    "# current position pointed to by the index, while my_array[index+1] returns the value in the position\n",
    "# to the right of the current position\n",
    "\n",
    "# create an unsorted array\n",
    "my_array = [ ]\n",
    "\n",
    "\n",
    "# set boolean hasChanged to True\n",
    "\n",
    "\n",
    "# while hasChanged is True\n",
    "    \n",
    "    \n",
    "    # set boolean hasChanged to False\n",
    "    \n",
    "    # for 1 to (itemCount - 1)\n",
    "    \n",
    "        # if (item at index) > (item at index + 1)\n",
    "        \n",
    "            # swap (item at index) with (item at index + 1)\n",
    "            \n",
    "            # hasChanged := true\n",
    "            \n",
    "            # print current state of array + boolean hasChanged\n",
    "            #print(str(my_array) + ' ' + str(hasChanged))\n",
    "            \n",
    "#print(my_array)\n"
   ]
  },
  {
   "cell_type": "code",
   "execution_count": 5,
   "metadata": {
    "collapsed": false
   },
   "outputs": [
    {
     "data": {
      "image/png": "[encoded data removed]",
      "text/plain": [
       "<matplotlib.figure.Figure at 0x7f8d945b07f0>"
      ]
     },
     "metadata": {},
     "output_type": "display_data"
    }
   ],
   "source": [
    "import pylab\n",
    "\n",
    "steps = []\n",
    "pylab.plot(steps)\n",
    "pylab.show()"
   ]
  },
  {
   "cell_type": "code",
   "execution_count": 6,
   "metadata": {
    "collapsed": false
   },
   "outputs": [
    {
     "data": {
      "image/jpeg": "[encoded data removed]",
      "text/html": [
       "\n",
       "        <iframe\n",
       "            width=\"400\"\n",
       "            height=\"300\"\n",
       "            src=\"https://www.youtube.com/embed/k4RRi_ntQc8\"\n",
       "            frameborder=\"0\"\n",
       "            allowfullscreen\n",
       "        ></iframe>\n",
       "        "
      ],
      "text/plain": [
       "<IPython.lib.display.YouTubeVideo at 0x7f8db0c499e8>"
      ]
     },
     "execution_count": 6,
     "metadata": {},
     "output_type": "execute_result"
    }
   ],
   "source": [
    "from IPython.display import YouTubeVideo\n",
    "YouTubeVideo(\"k4RRi_ntQc8\")"
   ]
  },
  {
   "cell_type": "code",
   "execution_count": null,
   "metadata": {
    "collapsed": false
   },
   "outputs": [],
   "source": []
  }
 ],
 "metadata": {
  "anaconda-cloud": {},
  "kernelspec": {
   "display_name": "Python [default]",
   "language": "python",
   "name": "python3"
  },
  "language_info": {
   "codemirror_mode": {
    "name": "ipython",
    "version": 3
   },
   "file_extension": ".py",
   "mimetype": "text/x-python",
   "name": "python",
   "nbconvert_exporter": "python",
   "pygments_lexer": "ipython3",
   "version": "3.5.2"
  }
 },
 "nbformat": 4,
 "nbformat_minor": 0
}
